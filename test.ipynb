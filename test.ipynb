{
 "cells": [
  {
   "cell_type": "code",
   "execution_count": 1,
   "metadata": {},
   "outputs": [],
   "source": [
    "from pathlib import Path\n",
    "def get_all_img_from_root(directory):\n",
    "    # 指定目录路径\n",
    "    # 使用glob模块来匹配所有的png和jpg文件\n",
    "    path = Path(directory)\n",
    "    png_files = path.glob('./*.png')\n",
    "    jpg_files = path.glob('./*.jpg')\n",
    "\n",
    "    # 打印所有找到的png和jpg文件\n",
    "    files = []\n",
    "    for file in png_files:\n",
    "        files.append(file.name)\n",
    "    for file in jpg_files:\n",
    "        files.append(file.name)\n",
    "    return files"
   ]
  },
  {
   "cell_type": "code",
   "execution_count": 5,
   "metadata": {},
   "outputs": [
    {
     "data": {
      "text/plain": [
       "[]"
      ]
     },
     "execution_count": 5,
     "metadata": {},
     "output_type": "execute_result"
    }
   ],
   "source": [
    "get_all_img_from_root('./')"
   ]
  }
 ],
 "metadata": {
  "kernelspec": {
   "display_name": "base",
   "language": "python",
   "name": "python3"
  },
  "language_info": {
   "codemirror_mode": {
    "name": "ipython",
    "version": 3
   },
   "file_extension": ".py",
   "mimetype": "text/x-python",
   "name": "python",
   "nbconvert_exporter": "python",
   "pygments_lexer": "ipython3",
   "version": "3.10.9"
  }
 },
 "nbformat": 4,
 "nbformat_minor": 2
}
